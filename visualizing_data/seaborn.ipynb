{
 "cells": [
  {
   "cell_type": "markdown",
   "metadata": {},
   "source": [
    "# Seaborn\n",
    "\n",
    "```bash\n",
    "pip install seaborn\n",
    "```\n",
    "\n",
    "Documentation: https://seaborn.pydata.org/tutorial.html\n",
    "\n",
    "# TODO: Complete me!"
   ]
  }
 ],
 "metadata": {
  "language_info": {
   "name": "python"
  }
 },
 "nbformat": 4,
 "nbformat_minor": 2
}
