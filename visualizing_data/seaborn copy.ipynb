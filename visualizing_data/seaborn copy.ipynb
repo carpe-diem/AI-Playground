{
 "cells": [
  {
   "cell_type": "markdown",
   "metadata": {},
   "source": [
    "# For exploration\n",
    "\n",
    "- [ ] Vega-Altair: https://altair-viz.github.io/\n",
    "- [ ] D3.js: https://d3js.org/\n",
    "- [ ] Bokeh: https://bokeh.org/\n",
    "- [ ] C3.js: https://c3js.org/\n",
    "- [ ] Plotly: https://plotly.com/\n",
    "- [ ] Bokeh: https://bokeh.org/\n",
    "\n"
   ]
  }
 ],
 "metadata": {
  "language_info": {
   "name": "python"
  }
 },
 "nbformat": 4,
 "nbformat_minor": 2
}
